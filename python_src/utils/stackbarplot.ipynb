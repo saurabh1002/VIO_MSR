{
 "cells": [
  {
   "cell_type": "code",
   "execution_count": 1,
   "metadata": {},
   "outputs": [],
   "source": [
    "import numpy as np\n",
    "import matplotlib.pyplot as plt\n",
    "import pandas as pd"
   ]
  },
  {
   "cell_type": "code",
   "execution_count": 2,
   "metadata": {},
   "outputs": [
    {
     "data": {
      "text/plain": [
       "<AxesSubplot:title={'center':'# feature matches'}, ylabel='symlog scale'>"
      ]
     },
     "execution_count": 2,
     "metadata": {},
     "output_type": "execute_result"
    },
    {
     "data": {
      "image/png": "[encoded data removed]",
      "text/plain": [
       "<Figure size 432x288 with 1 Axes>"
      ]
     },
     "metadata": {
      "needs_background": "light"
     },
     "output_type": "display_data"
    }
   ],
   "source": [
    "import pandas as pd\n",
    "import matplotlib.cm as cm\n",
    "import numpy as np\n",
    "import matplotlib.pyplot as plt\n",
    "import matplotlib as mpl\n",
    "\n",
    "def plot_clustered_stacked(dfall, labels=None, title=\"multiple stacked bar plot\",  H=\"/\", **kwargs):\n",
    "    \"\"\"Given a list of dataframes, with identical columns and index, create a clustered stacked bar plot. \n",
    "    \n",
    "    Arguments\n",
    "    ---------\n",
    "    - labels: list of the names of the dataframe, used for the legend\n",
    "    - title: a string for the title of the plot\n",
    "    - H: the hatch used for identification of the different dataframe\n",
    "    \"\"\"\n",
    "    \n",
    "    n_df = len(dfall)\n",
    "    n_col = len(dfall[0].columns) \n",
    "    n_ind = len(dfall[0].index)\n",
    "\n",
    "    axe = plt.subplot(111)\n",
    "    gradient = cm.get_cmap(\"Blues\")\n",
    "\n",
    "    for i,df in enumerate(dfall) : # for each data frame\n",
    "        axe = df.plot(kind=\"bar\",\n",
    "                      linewidth=0,\n",
    "                      stacked=True,\n",
    "                      ax=axe,\n",
    "                      legend=False,\n",
    "                      grid=False,\n",
    "                      color= gradient(float(i + 0.5)/n_df),\n",
    "                      **kwargs)  # make bar plots\n",
    "\n",
    "    H = ['...', '']\n",
    "    h,l = axe.get_legend_handles_labels() # get the handles we want to modify\n",
    "    for i in range(0, n_df * n_col, n_col): # len(h) = n_col * n_df\n",
    "        for j, pa in enumerate(h[i:i+n_col]):\n",
    "            for rect in pa.patches: # for each index\n",
    "                rect.set_x(rect.get_x() + 1 / float(n_df + 1) * i / float(n_col))\n",
    "                rect.set_hatch(H[j]) \n",
    "                rect.set_width(1 / float(n_df + 1))\n",
    "\n",
    "    axe.set_xticks((np.arange(0, 2 * n_ind, 2) + 1 / float(n_df + 1)) / 2.)\n",
    "    axe.set_xticklabels(df.index, rotation = 0)\n",
    "    axe.set_ylabel(\"symlog scale\")\n",
    "    axe.set_title('# feature matches')\n",
    "    plt.yscale('symlog')\n",
    "\n",
    "    n=[]        \n",
    "    n.append(axe.bar(0, 0, color=\"gray\", hatch=H[0]))\n",
    "\n",
    "    m = []\n",
    "    for i in range(3):\n",
    "        m.append(axe.bar(0, 0, color=gradient(float(i + 0.5)/n_df)))\n",
    "\n",
    "    # l1 = axe.legend(h[:n_col], l[:n_col], loc=[1.01, 0.5])\n",
    "    l1 = axe.legend(m, ['3dfeatures', 'orb', 'superpoint'], loc=[1.01, 0.5])\n",
    "    plt.legend(n, ['inliers'], loc=[1.01, 0.1]) \n",
    "    axe.add_artist(l1)\n",
    "    plt.savefig('inliers_plot.png', dpi=1000, transparent=False,bbox_inches='tight')\n",
    "\n",
    "    return axe\n",
    "\n",
    "\n",
    "# create dataframes\n",
    "orb = pd.DataFrame(np.array([[128, 146, 154, 148],\n",
    "                             [144, (280 - 146), 280 - 154, 280 - 148]\n",
    "                            ]).T,\n",
    "                   index = [\"Set A\", \"Set B\", \"Set C\", \"Set D\"],\n",
    "                   columns = [\"inliers\", \"matches\"])\n",
    "features_3d = pd.DataFrame(np.array([[15, 20, 17, 16], \n",
    "                                     [29 - 15, 38 - 20, 33 - 17, 30 - 16]\n",
    "                                    ]).T,\n",
    "                   index = [\"Set A\", \"Set B\", \"Set C\", \"Set D\"],\n",
    "                   columns = [\"inliers\", \"matches\"])\n",
    "superpoint = pd.DataFrame(np.array([[662, 767, 843, 804], \n",
    "                                    [1226 - 662, 1278 - 767, 1338 - 843, 1318 - 804]\n",
    "                                   ]).T,\n",
    "                   index = [\"Set A\", \"Set B\", \"Set C\", \"Set D\"],\n",
    "                   columns = [\"inliers\", \"matches\"])\n",
    "\n",
    "# Then, just call :\n",
    "plot_clustered_stacked([features_3d, orb, superpoint], [\"3dfeatures\", \"orb\", \"superpoint\"])"
   ]
  },
  {
   "cell_type": "code",
   "execution_count": null,
   "metadata": {},
   "outputs": [],
   "source": []
  }
 ],
 "metadata": {
  "interpreter": {
   "hash": "329f00aca1ba70e3cfc683ce5c50962cb0effe1392352debb5f7f7402023f783"
  },
  "kernelspec": {
   "display_name": "Python 3.8.10 ('dl')",
   "language": "python",
   "name": "python3"
  },
  "language_info": {
   "codemirror_mode": {
    "name": "ipython",
    "version": 3
   },
   "file_extension": ".py",
   "mimetype": "text/x-python",
   "name": "python",
   "nbconvert_exporter": "python",
   "pygments_lexer": "ipython3",
   "version": "3.8.12"
  },
  "orig_nbformat": 4
 },
 "nbformat": 4,
 "nbformat_minor": 2
}
